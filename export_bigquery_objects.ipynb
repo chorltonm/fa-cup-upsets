{
  "cells": [
    {
      "cell_type": "markdown",
      "metadata": {
        "id": "view-in-github",
        "colab_type": "text"
      },
      "source": [
        "<a href=\"https://colab.research.google.com/github/chorltonm/fa-cup-upsets/blob/main/export_bigquery_objects.ipynb\" target=\"_parent\"><img src=\"https://colab.research.google.com/assets/colab-badge.svg\" alt=\"Open In Colab\"/></a>"
      ]
    },
    {
      "cell_type": "code",
      "execution_count": 12,
      "metadata": {
        "id": "nEuX80dPfnRR"
      },
      "outputs": [],
      "source": [
        "# Import Libaries\n",
        "import os\n",
        "import sys\n",
        "import json\n",
        "import pandas as pd\n",
        "import numpy as np\n",
        "import importlib\n",
        "import pandas_gbq\n",
        "\n",
        "# Import Google Cloud Libraires\n",
        "from google.cloud import bigquery\n",
        "from google.oauth2 import service_account\n",
        "from google.colab import drive\n",
        "from google.colab import userdata\n",
        "\n",
        "\n"
      ]
    },
    {
      "cell_type": "code",
      "execution_count": 13,
      "metadata": {
        "id": "gl-LEV7vfuVs",
        "colab": {
          "base_uri": "https://localhost:8080/"
        },
        "outputId": "d4e471dd-aaca-457e-ea31-0b0d7f18de11"
      },
      "outputs": [
        {
          "output_type": "stream",
          "name": "stdout",
          "text": [
            "Drive already mounted at /content/drive; to attempt to forcibly remount, call drive.mount(\"/content/drive\", force_remount=True).\n"
          ]
        }
      ],
      "source": [
        "# Mount Google Drive\n",
        "drive.mount('/content/drive')\n",
        "\n",
        "# Change default ouput directory\n",
        "os.chdir('/content/drive/MyDrive/birkbeck_msc-project/output_files')\n",
        "\n",
        "# Change default ouput directory\n",
        "#os.chdir('/content/drive/MyDrive/birkbeck_msc-project/python_files')\n",
        "\n"
      ]
    },
    {
      "cell_type": "code",
      "execution_count": 20,
      "metadata": {
        "id": "VeWnIKHFi_uN"
      },
      "outputs": [],
      "source": [
        "# Authentication credentials and keys\n",
        "\n",
        "# Google Service Account\n",
        "\n",
        "# Load the JSON key from local Google Collab file\n",
        "key = json.load(open('/content/drive/MyDrive/service_account.json', 'r'))\n",
        "\n",
        "# Authenticate using the loaded key\n",
        "credentials = service_account.Credentials.from_service_account_info(key)\n",
        "\n",
        "# Set up the BigQuery client with the credentials to project\n",
        "client = bigquery.Client(credentials=credentials, project='birkbeck-msc-project-422917')"
      ]
    },
    {
      "cell_type": "code",
      "source": [
        "import os\n",
        "from google.cloud import bigquery\n",
        "from google.oauth2 import service_account\n",
        "\n",
        "\n",
        "def save_objects_as_sql(project_id, dataset_id, output_directory, credentials):\n",
        "    client = bigquery.Client(credentials=credentials, project=project_id)\n",
        "    dataset_ref = client.dataset(dataset_id)\n",
        "\n",
        "    # Export tables and views\n",
        "    tables = list(client.list_tables(dataset_ref))\n",
        "    for table in tables:\n",
        "        table_ref = client.get_table(table)\n",
        "\n",
        "        if table_ref.table_type == 'VIEW':\n",
        "            object_query = table_ref.view_query\n",
        "            #object_query = textwrap.dedent(str(object_query)).strip()\n",
        "            create_statement = f\"\"\"CREATE OR REPLACE VIEW `{project_id}.{dataset_id}.{table.table_id}` AS\n",
        "\n",
        "{object_query}\n",
        "\"\"\"\n",
        "        elif table_ref.table_type == 'TABLE':\n",
        "            # Generate CREATE TABLE statement\n",
        "            schema_fields = []\n",
        "            for field in table_ref.schema:\n",
        "                field_type = field.field_type\n",
        "                if field_type == 'INTEGER':\n",
        "                    field_type = 'INT64'\n",
        "                elif field_type == 'FLOAT':\n",
        "                    field_type = 'FLOAT64'\n",
        "                schema_fields.append(f\"`{field.name}` {field_type}\")\n",
        "            schema_string = \",\\n    \".join(schema_fields)\n",
        "            create_statement = f\"\"\"CREATE OR REPLACE TABLE `{project_id}.{dataset_id}.{table.table_id}`\n",
        "\n",
        "(\n",
        "{schema_string}\n",
        ")\n",
        "\"\"\"\n",
        "        else:\n",
        "            continue  # Skip other types of objects\n",
        "\n",
        "        filename = f\"{table.table_id}.sql\"\n",
        "        file_path = os.path.join(output_directory, filename)\n",
        "        with open(file_path, 'w') as f:\n",
        "            f.write(create_statement)\n",
        "\n",
        "        print(f\"Saved {table_ref.table_type.lower()} definition for {dataset_id} {table.table_id} to {file_path}\")\n",
        "\n",
        "    # Export stored procedures\n",
        "    query = f\"\"\"\n",
        "    SELECT routine_name, routine_definition\n",
        "    FROM `{project_id}.{dataset_id}.INFORMATION_SCHEMA.ROUTINES`\n",
        "    WHERE routine_type = 'PROCEDURE'\n",
        "    \"\"\"\n",
        "    query_job = client.query(query)\n",
        "    results = query_job.result()\n",
        "\n",
        "    for row in results:\n",
        "        procedure_name = row['routine_name']\n",
        "        procedure_definition = row['routine_definition']\n",
        "\n",
        "        create_statement = f\"\"\"CREATE OR REPLACE PROCEDURE `{project_id}.{dataset_id}.{procedure_name}` ()\n",
        "\n",
        "{procedure_definition}\n",
        "\"\"\"\n",
        "\n",
        "        filename = f\"{procedure_name}.sql\"\n",
        "        file_path = os.path.join(output_directory, filename)\n",
        "        with open(file_path, 'w') as f:\n",
        "            f.write(create_statement)\n",
        "\n",
        "        print(f\"Saved stored procedure definition for {dataset_id} {procedure_name} to {file_path}\")\n",
        "\n",
        "datasets = ['extract_layer', 'preparation_layer', 'analysis_layer']\n",
        "\n",
        "for dataset in datasets:\n",
        "      dataset_id = dataset\n",
        "      project_id = 'birkbeck-msc-project-422917'\n",
        "      output_directory = '/content/drive/MyDrive/birkbeck_msc-project/output_files'\n",
        "\n",
        "      # Ensure the output directory exists\n",
        "      os.makedirs(output_directory, exist_ok=True)\n",
        "\n",
        "      save_objects_as_sql(project_id, dataset_id, output_directory, credentials)"
      ],
      "metadata": {
        "colab": {
          "base_uri": "https://localhost:8080/"
        },
        "id": "FW6ud8D13pXm",
        "outputId": "07a13a69-f5c1-41c8-e615-0488848dd401"
      },
      "execution_count": 36,
      "outputs": [
        {
          "output_type": "stream",
          "name": "stdout",
          "text": [
            "Saved table definition for all_api_sportdevs_fb_arenas to /content/drive/MyDrive/birkbeck_msc-project/output_files/all_api_sportdevs_fb_arenas.sql\n",
            "Saved table definition for all_api_sportdevs_fb_leagues to /content/drive/MyDrive/birkbeck_msc-project/output_files/all_api_sportdevs_fb_leagues.sql\n",
            "Saved table definition for all_api_sportdevs_fb_lineups to /content/drive/MyDrive/birkbeck_msc-project/output_files/all_api_sportdevs_fb_lineups.sql\n",
            "Saved table definition for all_api_sportdevs_fb_matches to /content/drive/MyDrive/birkbeck_msc-project/output_files/all_api_sportdevs_fb_matches.sql\n",
            "Saved table definition for all_api_sportdevs_fb_seasons to /content/drive/MyDrive/birkbeck_msc-project/output_files/all_api_sportdevs_fb_seasons.sql\n",
            "Saved table definition for all_api_sportdevs_fb_standings to /content/drive/MyDrive/birkbeck_msc-project/output_files/all_api_sportdevs_fb_standings.sql\n",
            "Saved table definition for all_api_sportdevs_fb_teams to /content/drive/MyDrive/birkbeck_msc-project/output_files/all_api_sportdevs_fb_teams.sql\n",
            "Saved table definition for all_api_visual_crossing_weather to /content/drive/MyDrive/birkbeck_msc-project/output_files/all_api_visual_crossing_weather.sql\n",
            "Saved table definition for api_sportdevs_fb_arenas to /content/drive/MyDrive/birkbeck_msc-project/output_files/api_sportdevs_fb_arenas.sql\n",
            "Saved table definition for api_sportdevs_fb_leagues to /content/drive/MyDrive/birkbeck_msc-project/output_files/api_sportdevs_fb_leagues.sql\n",
            "Saved table definition for api_sportdevs_fb_lineups to /content/drive/MyDrive/birkbeck_msc-project/output_files/api_sportdevs_fb_lineups.sql\n",
            "Saved table definition for api_sportdevs_fb_matches to /content/drive/MyDrive/birkbeck_msc-project/output_files/api_sportdevs_fb_matches.sql\n",
            "Saved table definition for api_sportdevs_fb_seasons to /content/drive/MyDrive/birkbeck_msc-project/output_files/api_sportdevs_fb_seasons.sql\n",
            "Saved table definition for api_sportdevs_fb_standings to /content/drive/MyDrive/birkbeck_msc-project/output_files/api_sportdevs_fb_standings.sql\n",
            "Saved table definition for api_sportdevs_fb_teams to /content/drive/MyDrive/birkbeck_msc-project/output_files/api_sportdevs_fb_teams.sql\n",
            "Saved table definition for api_visual_crossing_weather to /content/drive/MyDrive/birkbeck_msc-project/output_files/api_visual_crossing_weather.sql\n",
            "Saved table definition for web_scrape_wikipedia_rivalries to /content/drive/MyDrive/birkbeck_msc-project/output_files/web_scrape_wikipedia_rivalries.sql\n",
            "Saved table definition for arenas to /content/drive/MyDrive/birkbeck_msc-project/output_files/arenas.sql\n",
            "Saved table definition for league_ranking to /content/drive/MyDrive/birkbeck_msc-project/output_files/league_ranking.sql\n",
            "Saved table definition for leagues to /content/drive/MyDrive/birkbeck_msc-project/output_files/leagues.sql\n",
            "Saved table definition for lineups to /content/drive/MyDrive/birkbeck_msc-project/output_files/lineups.sql\n",
            "Saved table definition for matches to /content/drive/MyDrive/birkbeck_msc-project/output_files/matches.sql\n",
            "Saved table definition for seasons to /content/drive/MyDrive/birkbeck_msc-project/output_files/seasons.sql\n",
            "Saved table definition for standings to /content/drive/MyDrive/birkbeck_msc-project/output_files/standings.sql\n",
            "Saved table definition for teams to /content/drive/MyDrive/birkbeck_msc-project/output_files/teams.sql\n",
            "Saved view definition for view_fa_cup_lineup_strength to /content/drive/MyDrive/birkbeck_msc-project/output_files/view_fa_cup_lineup_strength.sql\n",
            "Saved view definition for view_fa_cup_match_weather_hourly to /content/drive/MyDrive/birkbeck_msc-project/output_files/view_fa_cup_match_weather_hourly.sql\n",
            "Saved view definition for view_fa_cup_round_3_features to /content/drive/MyDrive/birkbeck_msc-project/output_files/view_fa_cup_round_3_features.sql\n",
            "Saved view definition for view_fa_cup_round_3_match_date_location to /content/drive/MyDrive/birkbeck_msc-project/output_files/view_fa_cup_round_3_match_date_location.sql\n",
            "Saved view definition for view_fa_cup_scores to /content/drive/MyDrive/birkbeck_msc-project/output_files/view_fa_cup_scores.sql\n",
            "Saved view definition for view_league_match_points to /content/drive/MyDrive/birkbeck_msc-project/output_files/view_league_match_points.sql\n",
            "Saved view definition for view_league_ranking_sorted to /content/drive/MyDrive/birkbeck_msc-project/output_files/view_league_ranking_sorted.sql\n",
            "Saved view definition for view_leagues to /content/drive/MyDrive/birkbeck_msc-project/output_files/view_leagues.sql\n",
            "Saved view definition for view_matches to /content/drive/MyDrive/birkbeck_msc-project/output_files/view_matches.sql\n",
            "Saved view definition for view_rivalries to /content/drive/MyDrive/birkbeck_msc-project/output_files/view_rivalries.sql\n",
            "Saved view definition for view_round_3_fa_cup_matches to /content/drive/MyDrive/birkbeck_msc-project/output_files/view_round_3_fa_cup_matches.sql\n",
            "Saved view definition for view_round_3_fa_cup_rank to /content/drive/MyDrive/birkbeck_msc-project/output_files/view_round_3_fa_cup_rank.sql\n",
            "Saved view definition for view_season_team_player_apperances to /content/drive/MyDrive/birkbeck_msc-project/output_files/view_season_team_player_apperances.sql\n",
            "Saved table definition for weather to /content/drive/MyDrive/birkbeck_msc-project/output_files/weather.sql\n",
            "Saved stored procedure definition for preparation_layer sproc_update_arenas to /content/drive/MyDrive/birkbeck_msc-project/output_files/sproc_update_arenas.sql\n",
            "Saved stored procedure definition for preparation_layer sproc_update_weather to /content/drive/MyDrive/birkbeck_msc-project/output_files/sproc_update_weather.sql\n",
            "Saved stored procedure definition for preparation_layer sproc_update_leagues to /content/drive/MyDrive/birkbeck_msc-project/output_files/sproc_update_leagues.sql\n",
            "Saved stored procedure definition for preparation_layer sproc_update_lineups to /content/drive/MyDrive/birkbeck_msc-project/output_files/sproc_update_lineups.sql\n",
            "Saved stored procedure definition for preparation_layer sproc_update_matches_test to /content/drive/MyDrive/birkbeck_msc-project/output_files/sproc_update_matches_test.sql\n",
            "Saved stored procedure definition for preparation_layer sproc_update_matches to /content/drive/MyDrive/birkbeck_msc-project/output_files/sproc_update_matches.sql\n",
            "Saved stored procedure definition for preparation_layer sproc_update_standings to /content/drive/MyDrive/birkbeck_msc-project/output_files/sproc_update_standings.sql\n",
            "Saved stored procedure definition for preparation_layer sproc_update_teams to /content/drive/MyDrive/birkbeck_msc-project/output_files/sproc_update_teams.sql\n",
            "Saved stored procedure definition for preparation_layer sproc_update_league_ranking to /content/drive/MyDrive/birkbeck_msc-project/output_files/sproc_update_league_ranking.sql\n",
            "Saved stored procedure definition for preparation_layer sproc_update_seasons to /content/drive/MyDrive/birkbeck_msc-project/output_files/sproc_update_seasons.sql\n",
            "Saved table definition for league_ranking to /content/drive/MyDrive/birkbeck_msc-project/output_files/league_ranking.sql\n",
            "Saved table definition for lr_ann_model_confusion_matrix_results to /content/drive/MyDrive/birkbeck_msc-project/output_files/lr_ann_model_confusion_matrix_results.sql\n",
            "Saved table definition for ratings to /content/drive/MyDrive/birkbeck_msc-project/output_files/ratings.sql\n",
            "Saved table definition for ratings_model_confusion_matrix_results to /content/drive/MyDrive/birkbeck_msc-project/output_files/ratings_model_confusion_matrix_results.sql\n",
            "Saved table definition for ratings_model_ranks to /content/drive/MyDrive/birkbeck_msc-project/output_files/ratings_model_ranks.sql\n",
            "Saved table definition for ratings_predictions to /content/drive/MyDrive/birkbeck_msc-project/output_files/ratings_predictions.sql\n",
            "Saved view definition for view_consolidated_confusion_matrix_results to /content/drive/MyDrive/birkbeck_msc-project/output_files/view_consolidated_confusion_matrix_results.sql\n",
            "Saved view definition for view_fa_cup_scores to /content/drive/MyDrive/birkbeck_msc-project/output_files/view_fa_cup_scores.sql\n",
            "Saved view definition for view_fa_cup_scores_old to /content/drive/MyDrive/birkbeck_msc-project/output_files/view_fa_cup_scores_old.sql\n",
            "Saved view definition for view_league_ranking_sorted to /content/drive/MyDrive/birkbeck_msc-project/output_files/view_league_ranking_sorted.sql\n",
            "Saved view definition for view_round_3_fa_cup_matches to /content/drive/MyDrive/birkbeck_msc-project/output_files/view_round_3_fa_cup_matches.sql\n",
            "Saved view definition for view_round_3_fa_cup_rank to /content/drive/MyDrive/birkbeck_msc-project/output_files/view_round_3_fa_cup_rank.sql\n",
            "Saved stored procedure definition for analysis_layer sproc_update_league_ranking to /content/drive/MyDrive/birkbeck_msc-project/output_files/sproc_update_league_ranking.sql\n"
          ]
        }
      ]
    }
  ],
  "metadata": {
    "colab": {
      "provenance": [],
      "authorship_tag": "ABX9TyMdPiuJckqFOwvGgiuOpN/k",
      "include_colab_link": true
    },
    "kernelspec": {
      "display_name": "Python 3",
      "name": "python3"
    },
    "language_info": {
      "name": "python"
    }
  },
  "nbformat": 4,
  "nbformat_minor": 0
}