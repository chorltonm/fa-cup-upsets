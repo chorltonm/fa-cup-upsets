{
  "nbformat": 4,
  "nbformat_minor": 0,
  "metadata": {
    "colab": {
      "provenance": [],
      "authorship_tag": "ABX9TyMwIGer7NWzcdV6NM8P9Vjo",
      "include_colab_link": true
    },
    "kernelspec": {
      "name": "python3",
      "display_name": "Python 3"
    },
    "language_info": {
      "name": "python"
    }
  },
  "cells": [
    {
      "cell_type": "markdown",
      "metadata": {
        "id": "view-in-github",
        "colab_type": "text"
      },
      "source": [
        "<a href=\"https://colab.research.google.com/github/Birkbeck/msc-projects-2023-4-chorltonm/blob/main/big-query/export_bigquery_objects.ipynb\" target=\"_parent\"><img src=\"https://colab.research.google.com/assets/colab-badge.svg\" alt=\"Open In Colab\"/></a>"
      ]
    },
    {
      "cell_type": "code",
      "execution_count": null,
      "metadata": {
        "id": "dv75qozpdf7s"
      },
      "outputs": [],
      "source": [
        "# Import Libaries\n",
        "import os\n",
        "import sys\n",
        "import json\n",
        "import pandas as pd\n",
        "import numpy as np\n",
        "import importlib\n",
        "import pandas_gbq\n",
        "\n",
        "# Import Google Cloud Libraires\n",
        "from google.cloud import bigquery\n",
        "from google.oauth2 import service_account\n",
        "from google.colab import drive\n",
        "from google.colab import userdata\n"
      ]
    },
    {
      "cell_type": "code",
      "source": [
        "# Mount Google Drive\n",
        "drive.mount('/content/drive', force_remount=True)\n",
        "\n",
        "# Change default ouput directory\n",
        "os.chdir('/content/drive/MyDrive/birkbeck_msc-project/output_files')\n",
        "\n"
      ],
      "metadata": {
        "id": "vL2PPe_LdhyH"
      },
      "execution_count": null,
      "outputs": []
    },
    {
      "cell_type": "code",
      "source": [
        "# Authentication credentials and keys\n",
        "\n",
        "# Google Service Account\n",
        "\n",
        "# Load the JSON key from local Google Collab file\n",
        "key = json.load(open('/content/drive/MyDrive/service_account.json', 'r'))\n",
        "\n",
        "# Authenticate using the loaded key\n",
        "credentials = service_account.Credentials.from_service_account_info(key)\n"
      ],
      "metadata": {
        "id": "VueGQcLHd0-f"
      },
      "execution_count": null,
      "outputs": []
    },
    {
      "cell_type": "code",
      "source": [
        "import os\n",
        "from google.cloud import bigquery\n",
        "from google.oauth2 import service_account\n",
        "\n",
        "\n",
        "def save_objects_as_sql(project_id, dataset_id, output_directory, credentials):\n",
        "    client = bigquery.Client(credentials=credentials, project=project_id)\n",
        "    dataset_ref = client.dataset(dataset_id)\n",
        "\n",
        "    # Export tables and views\n",
        "    tables = list(client.list_tables(dataset_ref))\n",
        "    for table in tables:\n",
        "        table_ref = client.get_table(table)\n",
        "\n",
        "        if table_ref.table_type == 'VIEW':\n",
        "            object_query = table_ref.view_query\n",
        "            #object_query = textwrap.dedent(str(object_query)).strip()\n",
        "            create_statement = f\"\"\"CREATE OR REPLACE VIEW `{project_id}.{dataset_id}.{table.table_id}` AS\n",
        "\n",
        "{object_query}\n",
        "\"\"\"\n",
        "        elif table_ref.table_type == 'TABLE':\n",
        "            # Generate CREATE TABLE statement\n",
        "            schema_fields = []\n",
        "            for field in table_ref.schema:\n",
        "                field_type = field.field_type\n",
        "                if field_type == 'INTEGER':\n",
        "                    field_type = 'INT64'\n",
        "                elif field_type == 'FLOAT':\n",
        "                    field_type = 'FLOAT64'\n",
        "                schema_fields.append(f\"`{field.name}` {field_type}\")\n",
        "            schema_string = \",\\n    \".join(schema_fields)\n",
        "            create_statement = f\"\"\"CREATE OR REPLACE TABLE `{project_id}.{dataset_id}.{table.table_id}`\n",
        "\n",
        "(\n",
        "{schema_string}\n",
        ")\n",
        "\"\"\"\n",
        "        else:\n",
        "            continue  # Skip other types of objects\n",
        "\n",
        "        filename = f\"{table.table_id}.sql\"\n",
        "        file_path = os.path.join(output_directory, filename)\n",
        "        with open(file_path, 'w') as f:\n",
        "            f.write(create_statement)\n",
        "\n",
        "        print(f\"Saved {table_ref.table_type.lower()} definition for {dataset_id} {table.table_id} to {file_path}\")\n",
        "\n",
        "    # Export stored procedures\n",
        "    query = f\"\"\"\n",
        "    SELECT routine_name, routine_definition\n",
        "    FROM `{project_id}.{dataset_id}.INFORMATION_SCHEMA.ROUTINES`\n",
        "    WHERE routine_type = 'PROCEDURE'\n",
        "    \"\"\"\n",
        "    query_job = client.query(query)\n",
        "    results = query_job.result()\n",
        "\n",
        "    for row in results:\n",
        "        procedure_name = row['routine_name']\n",
        "        procedure_definition = row['routine_definition']\n",
        "\n",
        "        create_statement = f\"\"\"CREATE OR REPLACE PROCEDURE `{project_id}.{dataset_id}.{procedure_name}` ()\n",
        "\n",
        "{procedure_definition}\n",
        "\"\"\"\n",
        "\n",
        "        filename = f\"{procedure_name}.sql\"\n",
        "        file_path = os.path.join(output_directory, filename)\n",
        "        with open(file_path, 'w') as f:\n",
        "            f.write(create_statement)\n",
        "\n",
        "        print(f\"Saved stored procedure definition for {dataset_id} {procedure_name} to {file_path}\")\n",
        "\n",
        "datasets = ['extract_layer', 'preparation_layer', 'analysis_layer']\n",
        "\n",
        "for dataset in datasets:\n",
        "      dataset_id = dataset\n",
        "      project_id = 'birkbeck-msc-project-422917'\n",
        "      output_directory = '/content/drive/MyDrive/birkbeck_msc-project/output_files'\n",
        "\n",
        "      # Ensure the output directory exists\n",
        "      os.makedirs(output_directory, exist_ok=True)\n",
        "\n",
        "      save_objects_as_sql(project_id, dataset_id, output_directory, credentials)"
      ],
      "metadata": {
        "id": "b-REQ5sCeDbd"
      },
      "execution_count": null,
      "outputs": []
    },
    {
      "cell_type": "code",
      "source": [
        "def export_table_data_as_json(project_id, dataset_id, output_directory, credentials):\n",
        "    client = bigquery.Client(credentials=credentials, project=project_id)\n",
        "    dataset_ref = client.dataset(dataset_id)\n",
        "\n",
        "    # Export tables\n",
        "    tables = list(client.list_tables(dataset_ref))\n",
        "    for table in tables:\n",
        "        table_ref = client.get_table(table)\n",
        "\n",
        "        if table_ref.table_type == 'TABLE':\n",
        "            # Query to get all data from the table\n",
        "            query = f\"SELECT * FROM `{project_id}.{dataset_id}.{table.table_id}`\"\n",
        "            query_job = client.query(query)\n",
        "            results = query_job.result()\n",
        "\n",
        "            # Convert results to list of dictionaries\n",
        "            data = [dict(row) for row in results]\n",
        "\n",
        "            # Save as JSON\n",
        "            filename = f\"{table.table_id}_data.json\"\n",
        "            file_path = os.path.join(output_directory, filename)\n",
        "            with open(file_path, 'w') as f:\n",
        "                json.dump(data, f, default=str, indent=2)\n",
        "\n",
        "            print(f\"Saved table data for {table.table_id} to {file_path}\")\n",
        "\n",
        "datasets = ['extract_layer', 'preparation_layer', 'analysis_layer']\n",
        "\n",
        "for dataset in datasets:\n",
        "      dataset_id = dataset\n",
        "      project_id = 'birkbeck-msc-project-422917'\n",
        "      output_directory = '/content/drive/MyDrive/birkbeck_msc-project/output_files'\n",
        "\n",
        "      # Ensure the output directory exists\n",
        "      os.makedirs(output_directory, exist_ok=True)\n",
        "      export_table_data_as_json(project_id, dataset_id, output_directory, credentials)"
      ],
      "metadata": {
        "id": "z5CMPAq2fo2a"
      },
      "execution_count": null,
      "outputs": []
    }
  ]
}